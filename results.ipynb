{
 "cells": [
  {
   "cell_type": "code",
   "execution_count": null,
   "metadata": {
    "executionInfo": {
     "elapsed": 9,
     "status": "ok",
     "timestamp": 1748971783603,
     "user": {
      "displayName": "Juan Pablo Perez Vargas",
      "userId": "11361655634266533980"
     },
     "user_tz": 300
    },
    "id": "0XyIyd0J2Pa9"
   },
   "outputs": [],
   "source": [
    "from pathlib import Path\n",
    "BASE_DIR     = Path('/content/drive/MyDrive/structure')\n",
    "\n",
    "def init_environment(forzar_drive=False):\n",
    "  from google.colab import drive\n",
    "  drive.mount('/content/drive', force_remount=forzar_drive)\n",
    "  MODELS_DIR   = BASE_DIR / 'models'\n",
    "  import sys\n",
    "  sys.path.append(str(MODELS_DIR))\n",
    "  sys.path.append(str(BASE_DIR))\n",
    "\n",
    "\n",
    "init_environment(forzar_drive=True)\n",
    "\n",
    "exp_name = \"< EXP >\"\n",
    "\n",
    "# Análisis\n",
    "from utils.analysis.analysis_rep import ExperimentRepAnalyzer\n",
    "analyzer = ExperimentRepAnalyzer(\n",
    "    cfg=load_config(exp_name)\n",
    ")\n",
    "\n",
    "analyzer.show_dashboard(confidence=0.95) # Dahsboard con todas las gráficas"
   ]
  },
  {
   "cell_type": "code",
   "execution_count": null,
   "metadata": {},
   "outputs": [
    {
     "name": "stdout",
     "output_type": "stream",
     "text": [
      "/Users/juanpabloperezvargas/Desktop/TESIS/structure/outputs/res_tcn_se_esc_9/rep_0/fold_1/reports/classification_report.json\n",
      "/Users/juanpabloperezvargas/Desktop/TESIS/structure/outputs/res_tcn_se_esc_9/rep_0/fold_2/reports/classification_report.json\n",
      "/Users/juanpabloperezvargas/Desktop/TESIS/structure/outputs/res_tcn_se_esc_9/rep_0/fold_3/reports/classification_report.json\n",
      "/Users/juanpabloperezvargas/Desktop/TESIS/structure/outputs/res_tcn_se_esc_9/rep_0/fold_4/reports/classification_report.json\n",
      "/Users/juanpabloperezvargas/Desktop/TESIS/structure/outputs/res_tcn_se_esc_9/rep_1/fold_0/reports/classification_report.json\n",
      "/Users/juanpabloperezvargas/Desktop/TESIS/structure/outputs/res_tcn_se_esc_9/rep_1/fold_1/reports/classification_report.json\n",
      "/Users/juanpabloperezvargas/Desktop/TESIS/structure/outputs/res_tcn_se_esc_9/rep_1/fold_2/reports/classification_report.json\n",
      "/Users/juanpabloperezvargas/Desktop/TESIS/structure/outputs/res_tcn_se_esc_9/rep_1/fold_3/reports/classification_report.json\n",
      "/Users/juanpabloperezvargas/Desktop/TESIS/structure/outputs/res_tcn_se_esc_9/rep_1/fold_4/reports/classification_report.json\n",
      "Encontrados 9 classification_report.json\n"
     ]
    }
   ],
   "source": [
    "from pathlib import Path\n",
    "import json, math, numpy as np, pandas as pd\n",
    "import matplotlib.pyplot as plt\n",
    "import scipy.stats as stats\n",
    "from tqdm.auto import tqdm\n",
    "import seaborn as sns\n",
    "import matplotlib as mpl\n",
    "\n",
    "\n",
    "RESULTS_ROOT = Path().resolve() / \"outputs\"\n",
    "def discover_experiments(root: Path):\n",
    "    \"\"\"\n",
    "    Devuelve rutas a todos los classification_report.json\n",
    "    esperados en ARQ_*/ESC_*/rep_*/reports/.\n",
    "    \"\"\"\n",
    "    return sorted(root.glob(\"res_tcn_se_esc_9/rep_*/fold_*/reports/classification_report.json\"))\n",
    "\n",
    "exp_paths = discover_experiments(RESULTS_ROOT)\n",
    "for path in exp_paths:\n",
    "    print(path)\n",
    "print(f\"Encontrados {len(exp_paths)} classification_report.json\")\n",
    "# cnn_bilstm_attn_esc_ => 5, 6, 7, 8, 11\n",
    "# res_tcn_se_esc_ => 9, 10, 11"
   ]
  }
 ],
 "metadata": {
  "colab": {
   "provenance": []
  },
  "kernelspec": {
   "display_name": "Python 3",
   "name": "python3"
  },
  "language_info": {
   "codemirror_mode": {
    "name": "ipython",
    "version": 3
   },
   "file_extension": ".py",
   "mimetype": "text/x-python",
   "name": "python",
   "nbconvert_exporter": "python",
   "pygments_lexer": "ipython3",
   "version": "3.9.6"
  }
 },
 "nbformat": 4,
 "nbformat_minor": 0
}
